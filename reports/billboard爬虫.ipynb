{
 "cells": [
  {
   "cell_type": "code",
   "execution_count": 6,
   "id": "4f15443d",
   "metadata": {},
   "outputs": [],
   "source": [
    "import requests\n",
    "import pandas as pd\n",
    "from bs4 import BeautifulSoup\n",
    "def billboard_hot_100(year):\n",
    "    url = requests.get('https://en.wikipedia.org/wiki/Billboard_Year-End_Hot_100_singles_of_'+str(year))\n",
    "    soup = BeautifulSoup(url.text)\n",
    "    df=pd.DataFrame({'Rank':[],'Title':[],'Artist':[]})\n",
    "    row=[]\n",
    "    summary_soup = soup.find_all('table',class_=\"wikitable sortable\")\n",
    "    for i in range(0,len(summary_soup)):\n",
    "        for j,entry in enumerate(summary_soup[i].find_all(\"td\")):\n",
    "            row.append(entry.text)\n",
    "            if (j+1)%3 == 0:\n",
    "                df.loc[len(df.index)]=row\n",
    "                row = []\n",
    "            \n",
    "    df=df.applymap(lambda x: x.replace('\"', ''))\n",
    "    df=df.applymap(lambda x: x.replace('\\n', ''))\n",
    "    df['Artist']=df['Artist'].replace(regex='featuring', value='feat')\n",
    "    df.insert(0,'Year',value=year)\n",
    "    return df\n",
    "\n",
    "\n",
    "frames=[]\n",
    "for i in range(2012,2023):\n",
    "    frames.append(billboard_hot_100(i))\n",
    "result = pd.concat(frames)\n",
    "\n",
    "result.to_csv(r'/Users/yuhong/Downloads/billboard_hot_100_2012to2022.csv', index=False)"
   ]
  },
  {
   "cell_type": "code",
   "execution_count": null,
   "id": "732768d2",
   "metadata": {},
   "outputs": [],
   "source": []
  }
 ],
 "metadata": {
  "kernelspec": {
   "display_name": "Python 3 (ipykernel)",
   "language": "python",
   "name": "python3"
  },
  "language_info": {
   "codemirror_mode": {
    "name": "ipython",
    "version": 3
   },
   "file_extension": ".py",
   "mimetype": "text/x-python",
   "name": "python",
   "nbconvert_exporter": "python",
   "pygments_lexer": "ipython3",
   "version": "3.9.12"
  }
 },
 "nbformat": 4,
 "nbformat_minor": 5
}
