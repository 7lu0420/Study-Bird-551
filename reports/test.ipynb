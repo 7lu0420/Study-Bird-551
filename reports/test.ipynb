{
 "cells": [
  {
   "cell_type": "code",
   "execution_count": 4,
   "metadata": {},
   "outputs": [
    {
     "data": {
      "text/html": [
       "\n",
       "<div id=\"altair-viz-bc38c3d18b1d47b98f686912cf57bba2\"></div>\n",
       "<script type=\"text/javascript\">\n",
       "  var VEGA_DEBUG = (typeof VEGA_DEBUG == \"undefined\") ? {} : VEGA_DEBUG;\n",
       "  (function(spec, embedOpt){\n",
       "    let outputDiv = document.currentScript.previousElementSibling;\n",
       "    if (outputDiv.id !== \"altair-viz-bc38c3d18b1d47b98f686912cf57bba2\") {\n",
       "      outputDiv = document.getElementById(\"altair-viz-bc38c3d18b1d47b98f686912cf57bba2\");\n",
       "    }\n",
       "    const paths = {\n",
       "      \"vega\": \"https://cdn.jsdelivr.net/npm//vega@5?noext\",\n",
       "      \"vega-lib\": \"https://cdn.jsdelivr.net/npm//vega-lib?noext\",\n",
       "      \"vega-lite\": \"https://cdn.jsdelivr.net/npm//vega-lite@4.17.0?noext\",\n",
       "      \"vega-embed\": \"https://cdn.jsdelivr.net/npm//vega-embed@6?noext\",\n",
       "    };\n",
       "\n",
       "    function maybeLoadScript(lib, version) {\n",
       "      var key = `${lib.replace(\"-\", \"\")}_version`;\n",
       "      return (VEGA_DEBUG[key] == version) ?\n",
       "        Promise.resolve(paths[lib]) :\n",
       "        new Promise(function(resolve, reject) {\n",
       "          var s = document.createElement('script');\n",
       "          document.getElementsByTagName(\"head\")[0].appendChild(s);\n",
       "          s.async = true;\n",
       "          s.onload = () => {\n",
       "            VEGA_DEBUG[key] = version;\n",
       "            return resolve(paths[lib]);\n",
       "          };\n",
       "          s.onerror = () => reject(`Error loading script: ${paths[lib]}`);\n",
       "          s.src = paths[lib];\n",
       "        });\n",
       "    }\n",
       "\n",
       "    function showError(err) {\n",
       "      outputDiv.innerHTML = `<div class=\"error\" style=\"color:red;\">${err}</div>`;\n",
       "      throw err;\n",
       "    }\n",
       "\n",
       "    function displayChart(vegaEmbed) {\n",
       "      vegaEmbed(outputDiv, spec, embedOpt)\n",
       "        .catch(err => showError(`Javascript Error: ${err.message}<br>This usually means there's a typo in your chart specification. See the javascript console for the full traceback.`));\n",
       "    }\n",
       "\n",
       "    if(typeof define === \"function\" && define.amd) {\n",
       "      requirejs.config({paths});\n",
       "      require([\"vega-embed\"], displayChart, err => showError(`Error loading script: ${err.message}`));\n",
       "    } else {\n",
       "      maybeLoadScript(\"vega\", \"5\")\n",
       "        .then(() => maybeLoadScript(\"vega-lite\", \"4.17.0\"))\n",
       "        .then(() => maybeLoadScript(\"vega-embed\", \"6\"))\n",
       "        .catch(showError)\n",
       "        .then(() => displayChart(vegaEmbed));\n",
       "    }\n",
       "  })({\"config\": {\"view\": {\"continuousWidth\": 400, \"continuousHeight\": 300}}, \"layer\": [{\"data\": {\"name\": \"data-e7024696689e9bd0500876216d64f341\"}, \"mark\": \"square\", \"encoding\": {\"color\": {\"field\": \"features\", \"type\": \"nominal\"}, \"opacity\": {\"field\": \"popularity\", \"type\": \"quantitative\"}, \"size\": {\"field\": \"popularity\", \"type\": \"quantitative\"}, \"x\": {\"field\": \"rank_bin\", \"type\": \"nominal\"}, \"y\": {\"field\": \"value\", \"scale\": {\"zero\": false}, \"type\": \"quantitative\"}}}, {\"data\": {\"name\": \"data-ed63c0d444bca2db8f58d27033738ec2\"}, \"mark\": \"square\", \"encoding\": {\"color\": {\"field\": \"features\", \"type\": \"nominal\"}, \"opacity\": {\"field\": \"popularity\", \"type\": \"quantitative\"}, \"size\": {\"field\": \"popularity\", \"type\": \"quantitative\"}, \"x\": {\"field\": \"rank_bin\", \"type\": \"nominal\"}, \"y\": {\"field\": \"value\", \"scale\": {\"zero\": false}, \"type\": \"quantitative\"}}}, {\"data\": {\"name\": \"data-dfb3378cd4519fff64b78fe60119332b\"}, \"mark\": \"square\", \"encoding\": {\"color\": {\"field\": \"features\", \"type\": \"nominal\"}, \"opacity\": {\"field\": \"popularity\", \"type\": \"quantitative\"}, \"size\": {\"field\": \"popularity\", \"type\": \"quantitative\"}, \"x\": {\"field\": \"rank_bin\", \"type\": \"nominal\"}, \"y\": {\"field\": \"value\", \"scale\": {\"zero\": false}, \"type\": \"quantitative\"}}}, {\"data\": {\"name\": \"data-31df0c991edcaa52abb41a6d9cfe66f6\"}, \"mark\": \"square\", \"encoding\": {\"color\": {\"field\": \"features\", \"type\": \"nominal\"}, \"opacity\": {\"field\": \"popularity\", \"type\": \"quantitative\"}, \"size\": {\"field\": \"popularity\", \"type\": \"quantitative\"}, \"x\": {\"field\": \"rank_bin\", \"type\": \"nominal\"}, \"y\": {\"field\": \"value\", \"scale\": {\"zero\": false}, \"type\": \"quantitative\"}}}], \"height\": 250, \"title\": {\"text\": \"Vibe Features\", \"anchor\": \"start\", \"fontSize\": 24, \"subtitle\": \"Energy, speechiness, instrumentalness,valence in different strata of the charts\"}, \"width\": 900, \"$schema\": \"https://vega.github.io/schema/vega-lite/v4.17.0.json\", \"datasets\": {\"data-e7024696689e9bd0500876216d64f341\": [{\"rank_bin\": \"1-10\", \"popularity\": 66.76363636363637, \"features\": \"energy\", \"value\": 0.6290363636363636}, {\"rank_bin\": \"11-20\", \"popularity\": 63.67272727272727, \"features\": \"energy\", \"value\": 0.6595363636363637}, {\"rank_bin\": \"21-30\", \"popularity\": 58.21818181818182, \"features\": \"energy\", \"value\": 0.6216272727272728}, {\"rank_bin\": \"31-40\", \"popularity\": 55.80909090909091, \"features\": \"energy\", \"value\": 0.6065681818181818}, {\"rank_bin\": \"41-50\", \"popularity\": 59.43636363636364, \"features\": \"energy\", \"value\": 0.6255454545454545}, {\"rank_bin\": \"51-60\", \"popularity\": 59.40909090909091, \"features\": \"energy\", \"value\": 0.6235818181818181}, {\"rank_bin\": \"61-70\", \"popularity\": 60.663636363636364, \"features\": \"energy\", \"value\": 0.6555818181818183}, {\"rank_bin\": \"71-80\", \"popularity\": 58.59090909090909, \"features\": \"energy\", \"value\": 0.6437227272727273}, {\"rank_bin\": \"81-90\", \"popularity\": 52.39090909090909, \"features\": \"energy\", \"value\": 0.6278136363636364}, {\"rank_bin\": \"91-100\", \"popularity\": 58.49090909090909, \"features\": \"energy\", \"value\": 0.6669727272727273}], \"data-ed63c0d444bca2db8f58d27033738ec2\": [{\"rank_bin\": \"1-10\", \"popularity\": 66.76363636363637, \"features\": \"speechiness\", \"value\": 0.09260363636363636}, {\"rank_bin\": \"11-20\", \"popularity\": 63.67272727272727, \"features\": \"speechiness\", \"value\": 0.09538545454545455}, {\"rank_bin\": \"21-30\", \"popularity\": 58.21818181818182, \"features\": \"speechiness\", \"value\": 0.10650727272727273}, {\"rank_bin\": \"31-40\", \"popularity\": 55.80909090909091, \"features\": \"speechiness\", \"value\": 0.10912090909090909}, {\"rank_bin\": \"41-50\", \"popularity\": 59.43636363636364, \"features\": \"speechiness\", \"value\": 0.11590454545454545}, {\"rank_bin\": \"51-60\", \"popularity\": 59.40909090909091, \"features\": \"speechiness\", \"value\": 0.11784181818181819}, {\"rank_bin\": \"61-70\", \"popularity\": 60.663636363636364, \"features\": \"speechiness\", \"value\": 0.08509636363636364}, {\"rank_bin\": \"71-80\", \"popularity\": 58.59090909090909, \"features\": \"speechiness\", \"value\": 0.11314727272727272}, {\"rank_bin\": \"81-90\", \"popularity\": 52.39090909090909, \"features\": \"speechiness\", \"value\": 0.10117090909090909}, {\"rank_bin\": \"91-100\", \"popularity\": 58.49090909090909, \"features\": \"speechiness\", \"value\": 0.08934636363636363}], \"data-dfb3378cd4519fff64b78fe60119332b\": [{\"rank_bin\": \"1-10\", \"popularity\": 66.76363636363637, \"features\": \"instrumentalness\", \"value\": 0.04115826227272728}, {\"rank_bin\": \"11-20\", \"popularity\": 63.67272727272727, \"features\": \"instrumentalness\", \"value\": 0.04613906490909091}, {\"rank_bin\": \"21-30\", \"popularity\": 58.21818181818182, \"features\": \"instrumentalness\", \"value\": 0.104863285}, {\"rank_bin\": \"31-40\", \"popularity\": 55.80909090909091, \"features\": \"instrumentalness\", \"value\": 0.06356782227272728}, {\"rank_bin\": \"41-50\", \"popularity\": 59.43636363636364, \"features\": \"instrumentalness\", \"value\": 0.07715328027272726}, {\"rank_bin\": \"51-60\", \"popularity\": 59.40909090909091, \"features\": \"instrumentalness\", \"value\": 0.0407795360909091}, {\"rank_bin\": \"61-70\", \"popularity\": 60.663636363636364, \"features\": \"instrumentalness\", \"value\": 0.025553050363636365}, {\"rank_bin\": \"71-80\", \"popularity\": 58.59090909090909, \"features\": \"instrumentalness\", \"value\": 0.04777311081818182}, {\"rank_bin\": \"81-90\", \"popularity\": 52.39090909090909, \"features\": \"instrumentalness\", \"value\": 0.10920596354545455}, {\"rank_bin\": \"91-100\", \"popularity\": 58.49090909090909, \"features\": \"instrumentalness\", \"value\": 0.04776073463636364}], \"data-31df0c991edcaa52abb41a6d9cfe66f6\": [{\"rank_bin\": \"1-10\", \"popularity\": 66.76363636363637, \"features\": \"valence\", \"value\": 0.5463545454545454}, {\"rank_bin\": \"11-20\", \"popularity\": 63.67272727272727, \"features\": \"valence\", \"value\": 0.5118745454545455}, {\"rank_bin\": \"21-30\", \"popularity\": 58.21818181818182, \"features\": \"valence\", \"value\": 0.49581545454545456}, {\"rank_bin\": \"31-40\", \"popularity\": 55.80909090909091, \"features\": \"valence\", \"value\": 0.4966381818181818}, {\"rank_bin\": \"41-50\", \"popularity\": 59.43636363636364, \"features\": \"valence\", \"value\": 0.5035409090909091}, {\"rank_bin\": \"51-60\", \"popularity\": 59.40909090909091, \"features\": \"valence\", \"value\": 0.4682063636363636}, {\"rank_bin\": \"61-70\", \"popularity\": 60.663636363636364, \"features\": \"valence\", \"value\": 0.5017972727272727}, {\"rank_bin\": \"71-80\", \"popularity\": 58.59090909090909, \"features\": \"valence\", \"value\": 0.4948763636363636}, {\"rank_bin\": \"81-90\", \"popularity\": 52.39090909090909, \"features\": \"valence\", \"value\": 0.5117918181818182}, {\"rank_bin\": \"91-100\", \"popularity\": 58.49090909090909, \"features\": \"valence\", \"value\": 0.4818309090909091}]}}, {\"theme\": \"dark\", \"mode\": \"vega-lite\"});\n",
       "</script>"
      ],
      "text/plain": [
       "alt.LayerChart(...)"
      ]
     },
     "execution_count": 4,
     "metadata": {},
     "output_type": "execute_result"
    }
   ],
   "source": [
    "import altair as alt\n",
    "import pandas as pd\n",
    "alt.renderers.set_embed_options(theme='dark')\n",
    "\n",
    "hits = pd.read_csv('../data/processed/audio_data_processed.csv')\n",
    "hits.drop([\"Unnamed: 0\",'type','uri','track_href','analysis_url','id'], axis=1, inplace=True)\n",
    "hits['rank_bin'] = pd.cut(hits['Rank'],bins=10,labels=['1-10','11-20','21-30','31-40','41-50','51-60','61-70','71-80','81-90','91-100'])\n",
    "\n",
    "hits_c = hits\n",
    "hits_c_bin = hits_c.groupby('rank_bin').mean().reset_index()\n",
    "hits_c_bin = hits_c_bin[['rank_bin','popularity','energy','speechiness','instrumentalness','valence']].set_index(['rank_bin','popularity']).stack().reset_index(name='value').rename(columns={'level_2':'features'})\n",
    "charts=[]\n",
    "titleParams=[alt.TitleParams(text = x,subtitle=y,anchor='start',fontSize = 24) for (x,y) in [\n",
    "            (\"Vibe Features\",\"Energy, speechiness, instrumentalness,valence in different strata of the charts\"),\n",
    "            (\"Rhythm Features\", \"Time signature, tempo, duration occurences\"),\n",
    "            (\"Musical Features\", \"Musical key, mode occurences\")]]\n",
    "\n",
    "for i in ['energy','speechiness','instrumentalness','valence']:\n",
    "    charts.append(alt.Chart(hits_c_bin[hits_c_bin['features'] == i]).mark_square().encode(\n",
    "    x='rank_bin:N',\n",
    "    y=alt.Y('value',scale=alt.Scale(zero=False)),\n",
    "    color='features:N',\n",
    "    opacity='popularity:Q',\n",
    "    size= 'popularity:Q'\n",
    "    ))\n",
    "(charts[0]+charts[1]+charts[2]+charts[3]).properties(\n",
    "        width=900,height=250, title = titleParams[0])"
   ]
  },
  {
   "cell_type": "code",
   "execution_count": 2,
   "metadata": {},
   "outputs": [
    {
     "ename": "ModuleNotFoundError",
     "evalue": "No module named 'lyrics_rub'",
     "output_type": "error",
     "traceback": [
      "\u001b[0;31m---------------------------------------------------------------------------\u001b[0m",
      "\u001b[0;31mModuleNotFoundError\u001b[0m                       Traceback (most recent call last)",
      "\u001b[1;32m/Users/petitmi/UBCO-MDS/551/Study-Bird-551/reports/test.ipynb Cell 2\u001b[0m in \u001b[0;36m<cell line: 1>\u001b[0;34m()\u001b[0m\n\u001b[0;32m----> <a href='vscode-notebook-cell:/Users/petitmi/UBCO-MDS/551/Study-Bird-551/reports/test.ipynb#W1sZmlsZQ%3D%3D?line=0'>1</a>\u001b[0m \u001b[39mfrom\u001b[39;00m \u001b[39mlyrics_rub\u001b[39;00m \u001b[39mimport\u001b[39;00m \u001b[39m*\u001b[39m\n\u001b[1;32m      <a href='vscode-notebook-cell:/Users/petitmi/UBCO-MDS/551/Study-Bird-551/reports/test.ipynb#W1sZmlsZQ%3D%3D?line=1'>2</a>\u001b[0m lr \u001b[39m=\u001b[39m LyricsRub()\n\u001b[1;32m      <a href='vscode-notebook-cell:/Users/petitmi/UBCO-MDS/551/Study-Bird-551/reports/test.ipynb#W1sZmlsZQ%3D%3D?line=2'>3</a>\u001b[0m lyrics_str, lyrics_line_lst \u001b[39m=\u001b[39m lr\u001b[39m.\u001b[39mprocess_lyrics(lr\u001b[39m.\u001b[39mget_lyrics(\u001b[39m'\u001b[39m\u001b[39mspace\u001b[39m\u001b[39m%20o\u001b[39;00m\u001b[39mddity\u001b[39m\u001b[39m%20d\u001b[39;00m\u001b[39mavid\u001b[39m\u001b[39m%\u001b[39m\u001b[39m20bowie\u001b[39m\u001b[39m'\u001b[39m))\n",
      "\u001b[0;31mModuleNotFoundError\u001b[0m: No module named 'lyrics_rub'"
     ]
    }
   ],
   "source": [
    "from lyrics_rub import *\n",
    "lr = LyricsRub()\n",
    "lyrics_str, lyrics_line_lst = lr.process_lyrics(lr.get_lyrics('space%20oddity%20david%20bowie'))\n",
    "print(lyrics_str)\n",
    "print(lyrics_line_lst)"
   ]
  },
  {
   "cell_type": "code",
   "execution_count": null,
   "metadata": {},
   "outputs": [],
   "source": [
    "import requests\n",
    "from bs4 import BeautifulSoup\n",
    "import time\n",
    "import random\n",
    "import os\n",
    "import json\n",
    "import re\n",
    "import yaml\n",
    "headers={\n",
    "    'accept': 'text/html,application/xhtml+xml,application/xml;q=0.9,image/avif,image/webp,image/apng,*/*;q=0.8,application/signed-exchange;v=b3;q=0.9',\n",
    "    'user-agent': 'Mozilla/5.0 (Macintosh; Intel Mac OS X 10_15_7) AppleWebKit/537.36 (KHTML, like Gecko) Chrome/109.0.0.0 Safari/537.36'\n",
    "}\n",
    "#for crawling\n",
    "with open('config.yml', \"r\") as f:\n",
    "    client = yaml.safe_load(f)\n",
    "apikey = client['apikey']\n",
    "ss = requests.Session()\n",
    "req = ss.get(f'http://api.musixmatch.com/ws/1.1/track.search?apikey={self.apikey}&q={q}&page_size=3&page=1&s_track_rating=desc')\n",
    "reqt= json.loads(req.text)"
   ]
  }
 ],
 "metadata": {
  "kernelspec": {
   "display_name": "Python 3.9.12 ('base')",
   "language": "python",
   "name": "python3"
  },
  "language_info": {
   "codemirror_mode": {
    "name": "ipython",
    "version": 3
   },
   "file_extension": ".py",
   "mimetype": "text/x-python",
   "name": "python",
   "nbconvert_exporter": "python",
   "pygments_lexer": "ipython3",
   "version": "3.9.12"
  },
  "orig_nbformat": 4,
  "vscode": {
   "interpreter": {
    "hash": "bf8deac87c05a71a0573c06e4f81cc468d2ce4c41fc413c538c1ad834d4a6dbc"
   }
  }
 },
 "nbformat": 4,
 "nbformat_minor": 2
}
