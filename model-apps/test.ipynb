{
 "cells": [
  {
   "cell_type": "code",
   "execution_count": 1,
   "metadata": {},
   "outputs": [
    {
     "name": "stdout",
     "output_type": "stream",
     "text": [
      "{'playlists': {'href': 'https://api.spotify.com/v1/search?query=rock&type=playlist&offset=0&limit=10', 'items': [{'collaborative': False, 'description': '<a href=spotify:playlist:37i9dQZF1EIUsI68Cm2ojI>Eagles</a>, <a href=spotify:playlist:37i9dQZF1EIVJW7PzIkjtQ>Creedence Clearwater Revival</a>, <a href=spotify:playlist:37i9dQZF1EIYWwGqC3GC7o>Linkin Park</a> and more', 'external_urls': {'spotify': 'https://open.spotify.com/playlist/37i9dQZF1EQpj7X7UK8OOF'}, 'href': 'https://api.spotify.com/v1/playlists/37i9dQZF1EQpj7X7UK8OOF', 'id': '37i9dQZF1EQpj7X7UK8OOF', 'images': [{'height': None, 'url': 'https://seed-mix-image.spotifycdn.com/v6/img/rock/0WwSkZ7LtFUFjGjMZBMt6T/en/large', 'width': None}], 'name': 'Rock Mix', 'owner': {'display_name': 'Spotify', 'external_urls': {'spotify': 'https://open.spotify.com/user/spotify'}, 'href': 'https://api.spotify.com/v1/users/spotify', 'id': 'spotify', 'type': 'user', 'uri': 'spotify:user:spotify'}, 'primary_color': None, 'public': None, 'snapshot_id': 'MTY3NjQ0MDgwMCwwMDAwMDAwMGQ1M2M0NTkzZDE0NGUzNWI0Mzg5NjhmNjMwMDFjNmJl', 'tracks': {'href': 'https://api.spotify.com/v1/playlists/37i9dQZF1EQpj7X7UK8OOF/tracks', 'total': 50}, 'type': 'playlist', 'uri': 'spotify:playlist:37i9dQZF1EQpj7X7UK8OOF'}, {'collaborative': False, 'description': 'Rock legends & epic songs that continue to inspire generations. Cover: Foo Fighters', 'external_urls': {'spotify': 'https://open.spotify.com/playlist/37i9dQZF1DWXRqgorJj26U'}, 'href': 'https://api.spotify.com/v1/playlists/37i9dQZF1DWXRqgorJj26U', 'id': '37i9dQZF1DWXRqgorJj26U', 'images': [{'height': None, 'url': 'https://i.scdn.co/image/ab67706f000000035e81461d7898c4309ef0e02d', 'width': None}], 'name': 'Rock Classics', 'owner': {'display_name': 'Spotify', 'external_urls': {'spotify': 'https://open.spotify.com/user/spotify'}, 'href': 'https://api.spotify.com/v1/users/spotify', 'id': 'spotify', 'type': 'user', 'uri': 'spotify:user:spotify'}, 'primary_color': None, 'public': None, 'snapshot_id': 'MTY3NTYxNjY1MSwwMDAwMDAwMDNiMzA3NDdkZGEwMWM3M2IwOGM1NDU2NTRlNDljMzI0', 'tracks': {'href': 'https://api.spotify.com/v1/playlists/37i9dQZF1DWXRqgorJj26U/tracks', 'total': 165}, 'type': 'playlist', 'uri': 'spotify:playlist:37i9dQZF1DWXRqgorJj26U'}, {'collaborative': False, 'description': 'KURT KOBAIN - Rock On Man - pitch@theplaylistbros.com', 'external_urls': {'spotify': 'https://open.spotify.com/playlist/3zhqmrPn7Zcf8vcLwNjyUR'}, 'href': 'https://api.spotify.com/v1/playlists/3zhqmrPn7Zcf8vcLwNjyUR', 'id': '3zhqmrPn7Zcf8vcLwNjyUR', 'images': [{'height': None, 'url': 'https://i.scdn.co/image/ab67706c0000bebb58e406bd817f549dcd540dd0', 'width': None}], 'name': 'Rock', 'owner': {'display_name': 'Drop Bros.', 'external_urls': {'spotify': 'https://open.spotify.com/user/315jvmc3mfst2wess4hw3mqej5we'}, 'href': 'https://api.spotify.com/v1/users/315jvmc3mfst2wess4hw3mqej5we', 'id': '315jvmc3mfst2wess4hw3mqej5we', 'type': 'user', 'uri': 'spotify:user:315jvmc3mfst2wess4hw3mqej5we'}, 'primary_color': None, 'public': None, 'snapshot_id': 'MTc3LGVkY2Q3ODJmMjY4MTk5MmVjYjgwOGVmYTc3ZWM0ZjljYWFkYTA2MWU=', 'tracks': {'href': 'https://api.spotify.com/v1/playlists/3zhqmrPn7Zcf8vcLwNjyUR/tracks', 'total': 33}, 'type': 'playlist', 'uri': 'spotify:playlist:3zhqmrPn7Zcf8vcLwNjyUR'}, {'collaborative': False, 'description': 'Cruise to the smooth grooves of these yacht rock tunes', 'external_urls': {'spotify': 'https://open.spotify.com/playlist/37i9dQZF1DXb3m918yXHxA'}, 'href': 'https://api.spotify.com/v1/playlists/37i9dQZF1DXb3m918yXHxA', 'id': '37i9dQZF1DXb3m918yXHxA', 'images': [{'height': None, 'url': 'https://i.scdn.co/image/ab67706f000000036d722e56dec7b85a8e5306ee', 'width': None}], 'name': 'Yacht Rock', 'owner': {'display_name': 'Spotify', 'external_urls': {'spotify': 'https://open.spotify.com/user/spotify'}, 'href': 'https://api.spotify.com/v1/users/spotify', 'id': 'spotify', 'type': 'user', 'uri': 'spotify:user:spotify'}, 'primary_color': None, 'public': None, 'snapshot_id': 'MTY2OTI0NTc2MiwwMDAwMDAwMGVkZjcxMmU1ZWE1MDI2MDI5YzdjNGQ3N2JkNTQzNWIz', 'tracks': {'href': 'https://api.spotify.com/v1/playlists/37i9dQZF1DXb3m918yXHxA/tracks', 'total': 75}, 'type': 'playlist', 'uri': 'spotify:playlist:37i9dQZF1DXb3m918yXHxA'}, {'collaborative': False, 'description': 'One hour on top of the best music from the Rocky movies. Trying hard now, it’s so hard now. Trying hard now, getting strong now. Won’t be long now. Getting strong now, gonna fly now. Flying high now, gonna fly, fly, fly!', 'external_urls': {'spotify': 'https://open.spotify.com/playlist/6pnjjHaIuQ1HqB9tIoCMay'}, 'href': 'https://api.spotify.com/v1/playlists/6pnjjHaIuQ1HqB9tIoCMay', 'id': '6pnjjHaIuQ1HqB9tIoCMay', 'images': [{'height': None, 'url': 'https://i.scdn.co/image/ab67706c0000bebba33193b5e78c6cc9033b440f', 'width': None}], 'name': 'Rocky Training', 'owner': {'display_name': 'ALF', 'external_urls': {'spotify': 'https://open.spotify.com/user/q9ae9nmi41a4z8xee9walxx69'}, 'href': 'https://api.spotify.com/v1/users/q9ae9nmi41a4z8xee9walxx69', 'id': 'q9ae9nmi41a4z8xee9walxx69', 'type': 'user', 'uri': 'spotify:user:q9ae9nmi41a4z8xee9walxx69'}, 'primary_color': None, 'public': None, 'snapshot_id': 'MzE5LGQ4ZWZhMmQxZWQwZjNjMTIzOWQ1MDcwZTViZWI0MWQ4NDIxNjg1NzY=', 'tracks': {'href': 'https://api.spotify.com/v1/playlists/6pnjjHaIuQ1HqB9tIoCMay/tracks', 'total': 17}, 'type': 'playlist', 'uri': 'spotify:playlist:6pnjjHaIuQ1HqB9tIoCMay'}, {'collaborative': False, 'description': 'Paramore along with the biggest Rock songs you need to hear today!', 'external_urls': {'spotify': 'https://open.spotify.com/playlist/37i9dQZF1DXcF6B6QPhFDv'}, 'href': 'https://api.spotify.com/v1/playlists/37i9dQZF1DXcF6B6QPhFDv', 'id': '37i9dQZF1DXcF6B6QPhFDv', 'images': [{'height': None, 'url': 'https://i.scdn.co/image/ab67706f00000003759af340ec1aa38383099846', 'width': None}], 'name': 'Rock This', 'owner': {'display_name': 'Spotify', 'external_urls': {'spotify': 'https://open.spotify.com/user/spotify'}, 'href': 'https://api.spotify.com/v1/users/spotify', 'id': 'spotify', 'type': 'user', 'uri': 'spotify:user:spotify'}, 'primary_color': None, 'public': None, 'snapshot_id': 'MTY3NjAwNTIwMCwwMDAwMDAwMDJlNmMzYTM2ZGIzNzYwYzIxODNjZWE1ZmNkYTlkYjQ2', 'tracks': {'href': 'https://api.spotify.com/v1/playlists/37i9dQZF1DXcF6B6QPhFDv/tracks', 'total': 50}, 'type': 'playlist', 'uri': 'spotify:playlist:37i9dQZF1DXcF6B6QPhFDv'}, {'collaborative': False, 'description': 'for inquiries pls email: hannah@craftplaylists.com &#x2F; all types of rock live here. pop rock, metal, alt, etc. &#x2F; featuring Bring Me The Horizon', 'external_urls': {'spotify': 'https://open.spotify.com/playlist/3lZhgFSlGDnl28sisdSrSF'}, 'href': 'https://api.spotify.com/v1/playlists/3lZhgFSlGDnl28sisdSrSF', 'id': '3lZhgFSlGDnl28sisdSrSF', 'images': [{'height': None, 'url': 'https://i.scdn.co/image/ab67706c0000bebba0f6f22bace9fa6c9ae73412', 'width': None}], 'name': 'rock', 'owner': {'display_name': 'Craft Genres', 'external_urls': {'spotify': 'https://open.spotify.com/user/31ccikucnc6gjg5muyytsa4oq5ae'}, 'href': 'https://api.spotify.com/v1/users/31ccikucnc6gjg5muyytsa4oq5ae', 'id': '31ccikucnc6gjg5muyytsa4oq5ae', 'type': 'user', 'uri': 'spotify:user:31ccikucnc6gjg5muyytsa4oq5ae'}, 'primary_color': None, 'public': None, 'snapshot_id': 'MTg0LDFlZTA4M2Q0ZTU0MmIyNTMyYjdhN2Q3NDBjMDU5Y2QyMzJhZGI3NTM=', 'tracks': {'href': 'https://api.spotify.com/v1/playlists/3lZhgFSlGDnl28sisdSrSF/tracks', 'total': 54}, 'type': 'playlist', 'uri': 'spotify:playlist:3lZhgFSlGDnl28sisdSrSF'}, {'collaborative': False, 'description': '@cast_music.1 - Solo éxitos con la mejor selección, orden personalizado ajustado a la playlist, sin canciones repetidas.', 'external_urls': {'spotify': 'https://open.spotify.com/playlist/0nlB4rZ5Ng82YoDvOHYqaf'}, 'href': 'https://api.spotify.com/v1/playlists/0nlB4rZ5Ng82YoDvOHYqaf', 'id': '0nlB4rZ5Ng82YoDvOHYqaf', 'images': [{'height': 640, 'url': 'https://mosaic.scdn.co/640/ab67616d0000b27335bf8a2179962114b8ec7585ab67616d0000b273439d02e6727863c8ac80f3f5ab67616d0000b27363f3b7f5abf86ad483b57b77ab67616d0000b273934bcea121ba7654226b27c7', 'width': 640}, {'height': 300, 'url': 'https://mosaic.scdn.co/300/ab67616d0000b27335bf8a2179962114b8ec7585ab67616d0000b273439d02e6727863c8ac80f3f5ab67616d0000b27363f3b7f5abf86ad483b57b77ab67616d0000b273934bcea121ba7654226b27c7', 'width': 300}, {'height': 60, 'url': 'https://mosaic.scdn.co/60/ab67616d0000b27335bf8a2179962114b8ec7585ab67616d0000b273439d02e6727863c8ac80f3f5ab67616d0000b27363f3b7f5abf86ad483b57b77ab67616d0000b273934bcea121ba7654226b27c7', 'width': 60}], 'name': 'Rock en Español Hits 💯% EXITOS', 'owner': {'display_name': 'CAST-Music', 'external_urls': {'spotify': 'https://open.spotify.com/user/22hlwcbe5fpn23qatidlx5obi'}, 'href': 'https://api.spotify.com/v1/users/22hlwcbe5fpn23qatidlx5obi', 'id': '22hlwcbe5fpn23qatidlx5obi', 'type': 'user', 'uri': 'spotify:user:22hlwcbe5fpn23qatidlx5obi'}, 'primary_color': None, 'public': None, 'snapshot_id': 'MTYwMywzNmIyYzk2ZTY1MzY4NTMxMDI4ZGIzM2EyOGU2YjViMWYyODRlYmQw', 'tracks': {'href': 'https://api.spotify.com/v1/playlists/0nlB4rZ5Ng82YoDvOHYqaf/tracks', 'total': 69}, 'type': 'playlist', 'uri': 'spotify:playlist:0nlB4rZ5Ng82YoDvOHYqaf'}, {'collaborative': False, 'description': 'Legendarios del rock en español. Cover: Santana', 'external_urls': {'spotify': 'https://open.spotify.com/playlist/37i9dQZF1DWYN0zdqzbEwl'}, 'href': 'https://api.spotify.com/v1/playlists/37i9dQZF1DWYN0zdqzbEwl', 'id': '37i9dQZF1DWYN0zdqzbEwl', 'images': [{'height': None, 'url': 'https://i.scdn.co/image/ab67706f000000030bad19f044af8dda6cec8ef2', 'width': None}], 'name': 'Rock en Español', 'owner': {'display_name': 'Spotify', 'external_urls': {'spotify': 'https://open.spotify.com/user/spotify'}, 'href': 'https://api.spotify.com/v1/users/spotify', 'id': 'spotify', 'type': 'user', 'uri': 'spotify:user:spotify'}, 'primary_color': None, 'public': None, 'snapshot_id': 'MTY3NTI4MTc5MiwwMDAwMDAwMDRlNzRmNjc2YjAyZGMzNDJlYzM1Zjc2MmI0MTk1YWNm', 'tracks': {'href': 'https://api.spotify.com/v1/playlists/37i9dQZF1DWYN0zdqzbEwl/tracks', 'total': 100}, 'type': 'playlist', 'uri': 'spotify:playlist:37i9dQZF1DWYN0zdqzbEwl'}, {'collaborative': False, 'description': 'Classic rock favorites. Cover: Bruce Springsteen', 'external_urls': {'spotify': 'https://open.spotify.com/playlist/37i9dQZF1DX09NvEVpeM77'}, 'href': 'https://api.spotify.com/v1/playlists/37i9dQZF1DX09NvEVpeM77', 'id': '37i9dQZF1DX09NvEVpeM77', 'images': [{'height': None, 'url': 'https://i.scdn.co/image/ab67706f00000003696d04d6264983f934726f1e', 'width': None}], 'name': 'Dad Rock', 'owner': {'display_name': 'Spotify', 'external_urls': {'spotify': 'https://open.spotify.com/user/spotify'}, 'href': 'https://api.spotify.com/v1/users/spotify', 'id': 'spotify', 'type': 'user', 'uri': 'spotify:user:spotify'}, 'primary_color': None, 'public': None, 'snapshot_id': 'MTY2NTcyMDA2MCwwMDAwMDAwMDYzN2I3NWU3MDI3NTBmYTE2YjM1ZTIwOTkyZDdmYzlk', 'tracks': {'href': 'https://api.spotify.com/v1/playlists/37i9dQZF1DX09NvEVpeM77/tracks', 'total': 50}, 'type': 'playlist', 'uri': 'spotify:playlist:37i9dQZF1DX09NvEVpeM77'}], 'limit': 10, 'next': 'https://api.spotify.com/v1/search?query=rock&type=playlist&offset=10&limit=10', 'offset': 0, 'previous': None, 'total': 1000}}\n"
     ]
    }
   ],
   "source": [
    "from spotify_api import *\n",
    "\n",
    "pl = SpotifyData()\n",
    "print(pl.search_playlist('rock'))"
   ]
  },
  {
   "cell_type": "code",
   "execution_count": 6,
   "metadata": {},
   "outputs": [
    {
     "name": "stdout",
     "output_type": "stream",
     "text": [
      "David-Bowie_Space-Oddity-2015-Remastered-Version. Ground Control to Major Tom. Ground Control to Major Tom. Take your protein pills and put your helmet on. Ground Control to Major Tom. Commencing countdown, engines on. Check ignition and may God′s love be with you. This is Ground Control to Major Tom. You've really made the grade. And the papers want to know whose shirts you wear. Now it′s time to leave the capsule if you dare. This is Major Tom to Ground Control. I'm stepping through the door. And I'm floating in a most peculiar way. And the stars look very different today. For here. Am I sitting in a tin can. Far above the world. Planet Earth is blue. And there′s nothing I can do. Though I′m past one hundred thousand miles. I'm feeling very still. And I think my spaceship knows which way to go. Tell my wife I love her very much she knows. Ground Control to Major Tom. Your circuit′s dead, there's something wrong. Can you hear me, Major Tom?. Can you hear me, Major Tom?. Can you hear me, Major Tom?. Can you.... Here am I floating round my tin can. Far above the Moon. Planet Earth is blue. And there′s nothing I can do\n",
      "['David-Bowie_Space-Oddity-2015-Remastered-Version', 'Ground Control to Major Tom', 'Ground Control to Major Tom', 'Take your protein pills and put your helmet on', 'Ground Control to Major Tom', 'Commencing countdown, engines on', 'Check ignition and may God′s love be with you', 'This is Ground Control to Major Tom', \"You've really made the grade\", 'And the papers want to know whose shirts you wear', 'Now it′s time to leave the capsule if you dare', 'This is Major Tom to Ground Control', \"I'm stepping through the door\", \"And I'm floating in a most peculiar way\", 'And the stars look very different today', 'For here', 'Am I sitting in a tin can', 'Far above the world', 'Planet Earth is blue', 'And there′s nothing I can do', 'Though I′m past one hundred thousand miles', \"I'm feeling very still\", 'And I think my spaceship knows which way to go', 'Tell my wife I love her very much she knows', 'Ground Control to Major Tom', \"Your circuit′s dead, there's something wrong\", 'Can you hear me, Major Tom?', 'Can you hear me, Major Tom?', 'Can you hear me, Major Tom?', 'Can you...', 'Here am I floating round my tin can', 'Far above the Moon', 'Planet Earth is blue', 'And there′s nothing I can do']\n"
     ]
    }
   ],
   "source": [
    "from lyrics_rub import *\n",
    "lr = LyricsRub()\n",
    "lyrics_str, lyrics_line_lst = lr.process_lyrics(lr.get_lyrics('space%20oddity%20david%20bowie'))\n",
    "print(lyrics_str)\n",
    "print(lyrics_line_lst)"
   ]
  },
  {
   "cell_type": "code",
   "execution_count": null,
   "metadata": {},
   "outputs": [],
   "source": []
  }
 ],
 "metadata": {
  "kernelspec": {
   "display_name": "Python 3.9.12 ('base')",
   "language": "python",
   "name": "python3"
  },
  "language_info": {
   "codemirror_mode": {
    "name": "ipython",
    "version": 3
   },
   "file_extension": ".py",
   "mimetype": "text/x-python",
   "name": "python",
   "nbconvert_exporter": "python",
   "pygments_lexer": "ipython3",
   "version": "3.9.12"
  },
  "orig_nbformat": 4,
  "vscode": {
   "interpreter": {
    "hash": "bf8deac87c05a71a0573c06e4f81cc468d2ce4c41fc413c538c1ad834d4a6dbc"
   }
  }
 },
 "nbformat": 4,
 "nbformat_minor": 2
}
